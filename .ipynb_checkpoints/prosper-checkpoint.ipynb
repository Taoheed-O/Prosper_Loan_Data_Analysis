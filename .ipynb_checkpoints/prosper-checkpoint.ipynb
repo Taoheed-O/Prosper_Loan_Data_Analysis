{
 "cells": [
  {
   "cell_type": "markdown",
   "metadata": {},
   "source": [
    "# PROSPERLOAN ANALYSIS AND VISUALIZATION\n",
    "## \n",
    "## by OYENIYI TAOHEED\n",
    "# \n",
    "### The dataset __(\"prosperLoanData.csv\")__ is about the loan acquisition across all the states in the united states from the year 2005 to 2014 and it contains 81 different columns."
   ]
  },
  {
   "cell_type": "markdown",
   "metadata": {},
   "source": [
    "### __DATA WRANGLING__"
   ]
  },
  {
   "cell_type": "code",
   "execution_count": 3,
   "metadata": {},
   "outputs": [],
   "source": [
    "# import all packages and set plots to be embedded inline\n",
    "import numpy as np\n",
    "import pandas as pd\n",
    "import matplotlib.pyplot as plt\n",
    "import seaborn as sns\n",
    "\n",
    "%matplotlib inline"
   ]
  },
  {
   "cell_type": "code",
   "execution_count": 4,
   "metadata": {},
   "outputs": [
    {
     "ename": "FileNotFoundError",
     "evalue": "[Errno 2] No such file or directory: 'prosperLoanData.csv'",
     "output_type": "error",
     "traceback": [
      "\u001b[0;31m---------------------------------------------------------------------------\u001b[0m",
      "\u001b[0;31mFileNotFoundError\u001b[0m                         Traceback (most recent call last)",
      "\u001b[0;32m<ipython-input-4-0445dc0cc91e>\u001b[0m in \u001b[0;36m<module>\u001b[0;34m\u001b[0m\n\u001b[1;32m      1\u001b[0m \u001b[0;31m# Loading data\u001b[0m\u001b[0;34m\u001b[0m\u001b[0;34m\u001b[0m\u001b[0;34m\u001b[0m\u001b[0m\n\u001b[0;32m----> 2\u001b[0;31m \u001b[0mdf\u001b[0m \u001b[0;34m=\u001b[0m \u001b[0mpd\u001b[0m\u001b[0;34m.\u001b[0m\u001b[0mread_csv\u001b[0m\u001b[0;34m(\u001b[0m\u001b[0;34m\"prosperLoanData.csv\"\u001b[0m\u001b[0;34m)\u001b[0m\u001b[0;34m\u001b[0m\u001b[0;34m\u001b[0m\u001b[0m\n\u001b[0m\u001b[1;32m      3\u001b[0m \u001b[0mdf\u001b[0m\u001b[0;34m.\u001b[0m\u001b[0mhead\u001b[0m\u001b[0;34m(\u001b[0m\u001b[0;34m)\u001b[0m\u001b[0;34m\u001b[0m\u001b[0;34m\u001b[0m\u001b[0m\n",
      "\u001b[0;32m~/.local/lib/python3.8/site-packages/pandas/io/parsers.py\u001b[0m in \u001b[0;36mread_csv\u001b[0;34m(filepath_or_buffer, sep, delimiter, header, names, index_col, usecols, squeeze, prefix, mangle_dupe_cols, dtype, engine, converters, true_values, false_values, skipinitialspace, skiprows, skipfooter, nrows, na_values, keep_default_na, na_filter, verbose, skip_blank_lines, parse_dates, infer_datetime_format, keep_date_col, date_parser, dayfirst, cache_dates, iterator, chunksize, compression, thousands, decimal, lineterminator, quotechar, quoting, doublequote, escapechar, comment, encoding, dialect, error_bad_lines, warn_bad_lines, delim_whitespace, low_memory, memory_map, float_precision, storage_options)\u001b[0m\n\u001b[1;32m    603\u001b[0m     \u001b[0mkwds\u001b[0m\u001b[0;34m.\u001b[0m\u001b[0mupdate\u001b[0m\u001b[0;34m(\u001b[0m\u001b[0mkwds_defaults\u001b[0m\u001b[0;34m)\u001b[0m\u001b[0;34m\u001b[0m\u001b[0;34m\u001b[0m\u001b[0m\n\u001b[1;32m    604\u001b[0m \u001b[0;34m\u001b[0m\u001b[0m\n\u001b[0;32m--> 605\u001b[0;31m     \u001b[0;32mreturn\u001b[0m \u001b[0m_read\u001b[0m\u001b[0;34m(\u001b[0m\u001b[0mfilepath_or_buffer\u001b[0m\u001b[0;34m,\u001b[0m \u001b[0mkwds\u001b[0m\u001b[0;34m)\u001b[0m\u001b[0;34m\u001b[0m\u001b[0;34m\u001b[0m\u001b[0m\n\u001b[0m\u001b[1;32m    606\u001b[0m \u001b[0;34m\u001b[0m\u001b[0m\n\u001b[1;32m    607\u001b[0m \u001b[0;34m\u001b[0m\u001b[0m\n",
      "\u001b[0;32m~/.local/lib/python3.8/site-packages/pandas/io/parsers.py\u001b[0m in \u001b[0;36m_read\u001b[0;34m(filepath_or_buffer, kwds)\u001b[0m\n\u001b[1;32m    455\u001b[0m \u001b[0;34m\u001b[0m\u001b[0m\n\u001b[1;32m    456\u001b[0m     \u001b[0;31m# Create the parser.\u001b[0m\u001b[0;34m\u001b[0m\u001b[0;34m\u001b[0m\u001b[0;34m\u001b[0m\u001b[0m\n\u001b[0;32m--> 457\u001b[0;31m     \u001b[0mparser\u001b[0m \u001b[0;34m=\u001b[0m \u001b[0mTextFileReader\u001b[0m\u001b[0;34m(\u001b[0m\u001b[0mfilepath_or_buffer\u001b[0m\u001b[0;34m,\u001b[0m \u001b[0;34m**\u001b[0m\u001b[0mkwds\u001b[0m\u001b[0;34m)\u001b[0m\u001b[0;34m\u001b[0m\u001b[0;34m\u001b[0m\u001b[0m\n\u001b[0m\u001b[1;32m    458\u001b[0m \u001b[0;34m\u001b[0m\u001b[0m\n\u001b[1;32m    459\u001b[0m     \u001b[0;32mif\u001b[0m \u001b[0mchunksize\u001b[0m \u001b[0;32mor\u001b[0m \u001b[0miterator\u001b[0m\u001b[0;34m:\u001b[0m\u001b[0;34m\u001b[0m\u001b[0;34m\u001b[0m\u001b[0m\n",
      "\u001b[0;32m~/.local/lib/python3.8/site-packages/pandas/io/parsers.py\u001b[0m in \u001b[0;36m__init__\u001b[0;34m(self, f, engine, **kwds)\u001b[0m\n\u001b[1;32m    812\u001b[0m             \u001b[0mself\u001b[0m\u001b[0;34m.\u001b[0m\u001b[0moptions\u001b[0m\u001b[0;34m[\u001b[0m\u001b[0;34m\"has_index_names\"\u001b[0m\u001b[0;34m]\u001b[0m \u001b[0;34m=\u001b[0m \u001b[0mkwds\u001b[0m\u001b[0;34m[\u001b[0m\u001b[0;34m\"has_index_names\"\u001b[0m\u001b[0;34m]\u001b[0m\u001b[0;34m\u001b[0m\u001b[0;34m\u001b[0m\u001b[0m\n\u001b[1;32m    813\u001b[0m \u001b[0;34m\u001b[0m\u001b[0m\n\u001b[0;32m--> 814\u001b[0;31m         \u001b[0mself\u001b[0m\u001b[0;34m.\u001b[0m\u001b[0m_engine\u001b[0m \u001b[0;34m=\u001b[0m \u001b[0mself\u001b[0m\u001b[0;34m.\u001b[0m\u001b[0m_make_engine\u001b[0m\u001b[0;34m(\u001b[0m\u001b[0mself\u001b[0m\u001b[0;34m.\u001b[0m\u001b[0mengine\u001b[0m\u001b[0;34m)\u001b[0m\u001b[0;34m\u001b[0m\u001b[0;34m\u001b[0m\u001b[0m\n\u001b[0m\u001b[1;32m    815\u001b[0m \u001b[0;34m\u001b[0m\u001b[0m\n\u001b[1;32m    816\u001b[0m     \u001b[0;32mdef\u001b[0m \u001b[0mclose\u001b[0m\u001b[0;34m(\u001b[0m\u001b[0mself\u001b[0m\u001b[0;34m)\u001b[0m\u001b[0;34m:\u001b[0m\u001b[0;34m\u001b[0m\u001b[0;34m\u001b[0m\u001b[0m\n",
      "\u001b[0;32m~/.local/lib/python3.8/site-packages/pandas/io/parsers.py\u001b[0m in \u001b[0;36m_make_engine\u001b[0;34m(self, engine)\u001b[0m\n\u001b[1;32m   1043\u001b[0m             )\n\u001b[1;32m   1044\u001b[0m         \u001b[0;31m# error: Too many arguments for \"ParserBase\"\u001b[0m\u001b[0;34m\u001b[0m\u001b[0;34m\u001b[0m\u001b[0;34m\u001b[0m\u001b[0m\n\u001b[0;32m-> 1045\u001b[0;31m         \u001b[0;32mreturn\u001b[0m \u001b[0mmapping\u001b[0m\u001b[0;34m[\u001b[0m\u001b[0mengine\u001b[0m\u001b[0;34m]\u001b[0m\u001b[0;34m(\u001b[0m\u001b[0mself\u001b[0m\u001b[0;34m.\u001b[0m\u001b[0mf\u001b[0m\u001b[0;34m,\u001b[0m \u001b[0;34m**\u001b[0m\u001b[0mself\u001b[0m\u001b[0;34m.\u001b[0m\u001b[0moptions\u001b[0m\u001b[0;34m)\u001b[0m  \u001b[0;31m# type: ignore[call-arg]\u001b[0m\u001b[0;34m\u001b[0m\u001b[0;34m\u001b[0m\u001b[0m\n\u001b[0m\u001b[1;32m   1046\u001b[0m \u001b[0;34m\u001b[0m\u001b[0m\n\u001b[1;32m   1047\u001b[0m     \u001b[0;32mdef\u001b[0m \u001b[0m_failover_to_python\u001b[0m\u001b[0;34m(\u001b[0m\u001b[0mself\u001b[0m\u001b[0;34m)\u001b[0m\u001b[0;34m:\u001b[0m\u001b[0;34m\u001b[0m\u001b[0;34m\u001b[0m\u001b[0m\n",
      "\u001b[0;32m~/.local/lib/python3.8/site-packages/pandas/io/parsers.py\u001b[0m in \u001b[0;36m__init__\u001b[0;34m(self, src, **kwds)\u001b[0m\n\u001b[1;32m   1860\u001b[0m \u001b[0;34m\u001b[0m\u001b[0m\n\u001b[1;32m   1861\u001b[0m         \u001b[0;31m# open handles\u001b[0m\u001b[0;34m\u001b[0m\u001b[0;34m\u001b[0m\u001b[0;34m\u001b[0m\u001b[0m\n\u001b[0;32m-> 1862\u001b[0;31m         \u001b[0mself\u001b[0m\u001b[0;34m.\u001b[0m\u001b[0m_open_handles\u001b[0m\u001b[0;34m(\u001b[0m\u001b[0msrc\u001b[0m\u001b[0;34m,\u001b[0m \u001b[0mkwds\u001b[0m\u001b[0;34m)\u001b[0m\u001b[0;34m\u001b[0m\u001b[0;34m\u001b[0m\u001b[0m\n\u001b[0m\u001b[1;32m   1863\u001b[0m         \u001b[0;32massert\u001b[0m \u001b[0mself\u001b[0m\u001b[0;34m.\u001b[0m\u001b[0mhandles\u001b[0m \u001b[0;32mis\u001b[0m \u001b[0;32mnot\u001b[0m \u001b[0;32mNone\u001b[0m\u001b[0;34m\u001b[0m\u001b[0;34m\u001b[0m\u001b[0m\n\u001b[1;32m   1864\u001b[0m         \u001b[0;32mfor\u001b[0m \u001b[0mkey\u001b[0m \u001b[0;32min\u001b[0m \u001b[0;34m(\u001b[0m\u001b[0;34m\"storage_options\"\u001b[0m\u001b[0;34m,\u001b[0m \u001b[0;34m\"encoding\"\u001b[0m\u001b[0;34m,\u001b[0m \u001b[0;34m\"memory_map\"\u001b[0m\u001b[0;34m,\u001b[0m \u001b[0;34m\"compression\"\u001b[0m\u001b[0;34m)\u001b[0m\u001b[0;34m:\u001b[0m\u001b[0;34m\u001b[0m\u001b[0;34m\u001b[0m\u001b[0m\n",
      "\u001b[0;32m~/.local/lib/python3.8/site-packages/pandas/io/parsers.py\u001b[0m in \u001b[0;36m_open_handles\u001b[0;34m(self, src, kwds)\u001b[0m\n\u001b[1;32m   1355\u001b[0m         \u001b[0mLet\u001b[0m \u001b[0mthe\u001b[0m \u001b[0mreaders\u001b[0m \u001b[0mopen\u001b[0m \u001b[0mIOHanldes\u001b[0m \u001b[0mafter\u001b[0m \u001b[0mthey\u001b[0m \u001b[0mare\u001b[0m \u001b[0mdone\u001b[0m \u001b[0;32mwith\u001b[0m \u001b[0mtheir\u001b[0m \u001b[0mpotential\u001b[0m \u001b[0mraises\u001b[0m\u001b[0;34m.\u001b[0m\u001b[0;34m\u001b[0m\u001b[0;34m\u001b[0m\u001b[0m\n\u001b[1;32m   1356\u001b[0m         \"\"\"\n\u001b[0;32m-> 1357\u001b[0;31m         self.handles = get_handle(\n\u001b[0m\u001b[1;32m   1358\u001b[0m             \u001b[0msrc\u001b[0m\u001b[0;34m,\u001b[0m\u001b[0;34m\u001b[0m\u001b[0;34m\u001b[0m\u001b[0m\n\u001b[1;32m   1359\u001b[0m             \u001b[0;34m\"r\"\u001b[0m\u001b[0;34m,\u001b[0m\u001b[0;34m\u001b[0m\u001b[0;34m\u001b[0m\u001b[0m\n",
      "\u001b[0;32m~/.local/lib/python3.8/site-packages/pandas/io/common.py\u001b[0m in \u001b[0;36mget_handle\u001b[0;34m(path_or_buf, mode, encoding, compression, memory_map, is_text, errors, storage_options)\u001b[0m\n\u001b[1;32m    640\u001b[0m                 \u001b[0merrors\u001b[0m \u001b[0;34m=\u001b[0m \u001b[0;34m\"replace\"\u001b[0m\u001b[0;34m\u001b[0m\u001b[0;34m\u001b[0m\u001b[0m\n\u001b[1;32m    641\u001b[0m             \u001b[0;31m# Encoding\u001b[0m\u001b[0;34m\u001b[0m\u001b[0;34m\u001b[0m\u001b[0;34m\u001b[0m\u001b[0m\n\u001b[0;32m--> 642\u001b[0;31m             handle = open(\n\u001b[0m\u001b[1;32m    643\u001b[0m                 \u001b[0mhandle\u001b[0m\u001b[0;34m,\u001b[0m\u001b[0;34m\u001b[0m\u001b[0;34m\u001b[0m\u001b[0m\n\u001b[1;32m    644\u001b[0m                 \u001b[0mioargs\u001b[0m\u001b[0;34m.\u001b[0m\u001b[0mmode\u001b[0m\u001b[0;34m,\u001b[0m\u001b[0;34m\u001b[0m\u001b[0;34m\u001b[0m\u001b[0m\n",
      "\u001b[0;31mFileNotFoundError\u001b[0m: [Errno 2] No such file or directory: 'prosperLoanData.csv'"
     ]
    }
   ],
   "source": [
    "# Loading data\n",
    "df = pd.read_csv(\"prosperLoanData.csv\")\n",
    "df.head()"
   ]
  },
  {
   "cell_type": "code",
   "execution_count": null,
   "metadata": {},
   "outputs": [],
   "source": [
    "# Data description and information\n",
    "print(f\"Data shape: {df.shape}\\n\")\n",
    "print(f\"Data description: {df.describe()}\\n\")\n",
    "print(f\"Data info: {df.info()}\")"
   ]
  },
  {
   "cell_type": "code",
   "execution_count": null,
   "metadata": {},
   "outputs": [],
   "source": [
    "# Listing the columns\n",
    "list(df)[:10]"
   ]
  },
  {
   "cell_type": "code",
   "execution_count": null,
   "metadata": {
    "scrolled": true
   },
   "outputs": [],
   "source": [
    "# Making a list of useful columns needed for our visualization.\n",
    "col_list = [\"ListingKey\", \"ListingCreationDate\", \"Investors\", \"LoanOriginationDate\",\n",
    "            \"LoanOriginalAmount\", \"LoanMonthsSinceOrigination\", \"IncomeRange\", \"BorrowerState\",\n",
    "            \"Occupation\", \"EmploymentStatus\", \"ListingCategory (numeric)\", \"LoanStatus\", \n",
    "            \"TotalProsperLoans\", \"OnTimeProsperPayments\", \"ProsperPaymentsLessThanOneMonthLate\",\n",
    "            \"ProsperPaymentsOneMonthPlusLate\", \"BorrowerRate\",\"Term\"]\n",
    "\n",
    "# The most appropriate columns(Individual Interest).\n",
    "# Making a copy of the original data.\n",
    "df_1 = df.copy()\n",
    "\n",
    "# Modified data(df)\n",
    "df_1 = df_1[col_list]\n",
    "df_1.head()"
   ]
  },
  {
   "cell_type": "markdown",
   "metadata": {},
   "source": [
    "### __Dataset structure:__\n",
    "\n",
    "- The Dataset is of shape 113937 rows and 81 columns.. Extracted just few of the most important  ones for the visualization process.\n",
    "\n",
    "### __Main features of dataset:__\n",
    "\n",
    "- The main features of interest in the data are ... \n",
    "    - The rate at which people borrow money.\n",
    "    - The ambiguity in the interest rate of every loan(Does it really pay the borrower or add more troubles for them).\n",
    "    - The main/most common reasons as to why people apply for loans.\n",
    "    - The rate of ontime payment of loans and how it varies with the amount of interest rate.\n",
    "### __Features that closely/mainly supports investigation of interest(s):__\n",
    "\n",
    "- The following features should suffice:\n",
    "    - LoanOriginationDate, LoanOriginalAmount, LoanMonthsSinceOrigination, IncomeRange,\n",
    "    - IncomeVerifiable, Occupation, EmploymentStatus, ListingCategory (numeric),\n",
    "    - LoanStatus, TotalProsperLoans, OnTimeProsperPayments, BorrowerRate, Term,\n",
    "    - ProsperPaymentsLessThanOneMonthLate, ProsperPaymentsOneMonthPlusLate."
   ]
  },
  {
   "cell_type": "markdown",
   "metadata": {},
   "source": [
    "### __CHECKING AND CLEANING OUR DATA__"
   ]
  },
  {
   "cell_type": "code",
   "execution_count": null,
   "metadata": {
    "scrolled": true
   },
   "outputs": [],
   "source": [
    "df_1.head()"
   ]
  },
  {
   "cell_type": "code",
   "execution_count": null,
   "metadata": {},
   "outputs": [],
   "source": [
    "df_1.dtypes"
   ]
  },
  {
   "cell_type": "code",
   "execution_count": null,
   "metadata": {
    "scrolled": true
   },
   "outputs": [],
   "source": [
    "# changing the date columns format to datetime format.\n",
    "dates = ['LoanOriginationDate','ListingCreationDate']\n",
    "for i in dates:\n",
    "    df_1[i] = pd.to_datetime(df[i])\n",
    "\n",
    "df_1.dtypes"
   ]
  },
  {
   "cell_type": "code",
   "execution_count": null,
   "metadata": {},
   "outputs": [],
   "source": [
    "# creating extra columns for year, month and day for easy visuals.\n",
    "df_1[\"LoanOriginationYear\"] = df_1[\"LoanOriginationDate\"].dt.year\n",
    "df_1[\"LoanOriginationMonth\"] = df_1[\"LoanOriginationDate\"].dt.month\n",
    "df_1[\"LoanOriginationDay\"] = df_1[\"LoanOriginationDate\"].dt.day\n",
    "\n",
    "# extracting the date from the columns with dtype=\"datetime\" for easier visualization.\n",
    "for date in dates:\n",
    "    df_1[date] = df_1[date].dt.date\n",
    "\n",
    "# testing\n",
    "df_1.head()"
   ]
  },
  {
   "cell_type": "code",
   "execution_count": null,
   "metadata": {},
   "outputs": [],
   "source": [
    "# checking for the income range uniqueness\n",
    "df_1[\"IncomeRange\"].unique()\n",
    "\n",
    "# category\n",
    "category = ['Not displayed','Not employed','$0','$1-24,999','$25,000-49,999','$50,000-74,999',\n",
    "            '$75,000-99,999','$100,000+']\n",
    "\n",
    "# ordering these categories heirachically using pandas api.categorical...\n",
    "types = pd.api.types.CategoricalDtype(categories=category,ordered=True)\n",
    "df_1[\"IncomeRange\"] = df_1[\"IncomeRange\"].astype(types)"
   ]
  },
  {
   "cell_type": "code",
   "execution_count": null,
   "metadata": {
    "scrolled": true
   },
   "outputs": [],
   "source": [
    "df_1.head()"
   ]
  },
  {
   "cell_type": "markdown",
   "metadata": {},
   "source": []
  },
  {
   "cell_type": "markdown",
   "metadata": {},
   "source": [
    "### __Creating visual functions for some matplotlib plots for reusability__"
   ]
  },
  {
   "cell_type": "code",
   "execution_count": null,
   "metadata": {},
   "outputs": [],
   "source": [
    "# Scatter plot\n",
    "def scatterplot(x, y, xlabel,ylabel, title):\n",
    "    plt.figure(figsize=  (15, 8))\n",
    "    plt.scatter(x, y, align = 'center')\n",
    "    plt.xlabel(xlabel, fontsize = 16)\n",
    "    plt.ylabel(ylabel, fontsize = 16)\n",
    "    plt.title(title, fontsize = 16)\n",
    "    plt.show();\n",
    "\n",
    "# Horizontal barplot\n",
    "def barhplot(x, y, xlabel,ylabel, title):\n",
    "    plt.figure(figsize=  (15, 8))\n",
    "    plt.barh(x, y, align = 'center')\n",
    "    plt.gca().invert_yaxis()\n",
    "    plt.xlabel(xlabel, fontsize = 16)\n",
    "    plt.ylabel(ylabel, fontsize = 16)\n",
    "    plt.title(title, fontsize = 16)\n",
    "    plt.show();\n",
    "    \n",
    "# Barplot\n",
    "def barplot(x, y, xlabel,ylabel, title):\n",
    "    plt.figure(figsize=  (15, 8))\n",
    "    plt.bar(x, y, align = 'center')\n",
    "    plt.xlabel(xlabel, fontsize = 16)\n",
    "    plt.ylabel(ylabel, fontsize = 16)\n",
    "    plt.title(title, fontsize = 16)\n",
    "    plt.xticks(rotation=90)\n",
    "    plt.show();\n",
    "    \n",
    "# Barplot(logarithmic scale ...)\n",
    "    # The logarithm scale is to account for part of the plots that-\n",
    "    # -might seem a little off due to small values...\n",
    "def barplot_log(x, y, xlabel,ylabel, title):\n",
    "    plt.figure(figsize = (15, 8))\n",
    "    plt.bar(x, y, align = 'center',color=\"blue\")\n",
    "    plt.xlabel(xlabel, fontsize = 16)\n",
    "    plt.ylabel(ylabel, fontsize = 16)\n",
    "    plt.title(title, fontsize = 16)\n",
    "    plt.xticks(rotation=90)\n",
    "    plt.yscale(\"log\")\n",
    "    plt.show();\n",
    "\n",
    "# Hisplot\n",
    "def histplot(x, xlabel,ylabel, title):\n",
    "    plt.figure(figsize=  (15, 8))\n",
    "    plt.hist(x, align = 'left', width=0.6)\n",
    "    plt.xlabel(xlabel, fontsize = 16)\n",
    "    plt.ylabel(ylabel, fontsize = 16)\n",
    "    plt.xticks(rotation=30)\n",
    "    plt.title(title, fontsize = 16)\n",
    "    plt.show();\n",
    "    \n",
    "# Lineplot\n",
    "def lineplot(value, xlabel, ylabel, title):\n",
    "    plt.figure(figsize=  (16, 8))\n",
    "    plt.plot(value)\n",
    "    plt.xlabel(xlabel, fontsize = 16)\n",
    "    plt.ylabel(ylabel, fontsize = 16)\n",
    "    plt.title(title, fontsize = 20)\n",
    "    plt.show();\n",
    "\n",
    "# Box Plot\n",
    "def boxplot(x,y, xlabel, ylabel, title):\n",
    "    plt.figure(figsize=  (15, 8))\n",
    "    plt.boxplot(x,y)\n",
    "    plt.xlabel(xlabel, fontsize = 16)\n",
    "    plt.ylabel(ylabel, fontsize = 16)\n",
    "    plt.title(title, fontsize = 16)\n",
    "    plt.xticks(rotation=90)\n",
    "    plt.show();\n",
    "\n",
    " # Pie chart\n",
    "def pie_chart(x, labels,legend):\n",
    "    plt.figure(figsize=(15,8))\n",
    "    explode_list = np.arange(len(x))/12\n",
    "    plt.pie(x, labels=labels, counterclock=False, startangle=90,\n",
    "            explode=explode_list,autopct= lambda p:f'{p:.2f}%')\n",
    "    plt.legend(title=legend)\n",
    "    plt.show();\n",
    "    \n",
    "# sorting function.\n",
    "def sortby(column):\n",
    "    data_1 = data.sort_values(by = column, ascending = False)\n",
    "    return data\n"
   ]
  },
  {
   "cell_type": "code",
   "execution_count": null,
   "metadata": {},
   "outputs": [],
   "source": []
  },
  {
   "cell_type": "markdown",
   "metadata": {},
   "source": [
    "### __UNIVARIATE EXPLORATION.__"
   ]
  },
  {
   "cell_type": "markdown",
   "metadata": {},
   "source": [
    "#### 1. Relationship between earnings and rate of loan requests.\n",
    "- What are the number of loan borrowers based on their earnings?\n",
    "    - Does Salary has anything to do with the loans?"
   ]
  },
  {
   "cell_type": "code",
   "execution_count": null,
   "metadata": {
    "scrolled": true
   },
   "outputs": [],
   "source": [
    "# a histplot showing the number of loan borrowers based on earnings\n",
    "histplot(df_1[\"IncomeRange\"], \"Income Range($)\", \"Counts\",\"Count of loan borrowers based on Earnings\")\n",
    "\n",
    "# The same plot using direct pandas plot\n",
    "plt.figure(figsize=(16,8))\n",
    "df_1['IncomeRange'].value_counts().plot()\n",
    "plt.xticks(rotation=90);"
   ]
  },
  {
   "cell_type": "markdown",
   "metadata": {},
   "source": [
    "#### From the two plots shown above, it can be clearly seen that the earners in the range 25,000 -  49,000(dollars) have the highest rate of loan collection. While the distribution is way more lower for the non-earners and the earners in the range 1 - 24,999(dollars) which might be due to their _low income_."
   ]
  },
  {
   "cell_type": "code",
   "execution_count": null,
   "metadata": {},
   "outputs": [],
   "source": []
  },
  {
   "cell_type": "markdown",
   "metadata": {},
   "source": [
    "#### 2.The most common reasons why most people get loan.\n",
    "        - Does this have anything to do with low-income?"
   ]
  },
  {
   "cell_type": "markdown",
   "metadata": {},
   "source": [
    "#### \n",
    "1. There are numerous reasons as to why different people get loans. The categories are listed below:\n",
    "     - The category of the listing that the borrower selected when posting their listing: 0 - Not Available, 1 - Debt Consolidation, 2 - Home Improvement, 3 - Business, 4 - Personal Loan, 5 - Student Use, 6 - Auto, 7- Other, 8 - Baby&Adoption, 9 - Boat, 10 - Cosmetic Procedure, 11 - Engagement Ring, 12 - Green Loans, 13 - Household Expenses, 14 - Large Purchases, 15 - Medical/Dental, 16 - Motorcycle, 17 - RV, 18 - Taxes, 19 - Vacation, 20 - Wedding Loans"
   ]
  },
  {
   "cell_type": "markdown",
   "metadata": {},
   "source": [
    "- First let's try and see a plot of the count of the reasons why people get a loan"
   ]
  },
  {
   "cell_type": "code",
   "execution_count": null,
   "metadata": {},
   "outputs": [],
   "source": [
    "# Lets make a copy of the data and change the categories from numeric to string...\n",
    "reasons_df = df_1.copy()\n",
    "# Renaming the ListingCategory column.\n",
    "reasons_df[\"ListingCategory (numeric)\"] = reasons_df.rename({\"ListingCategory (numeric)\":\"ListingCategory\"},axis=1, inplace=True)\n",
    "# reasons_df[\"ListingCategory\"]\n",
    "# Making a dictionary of the column values to change.\n",
    "reasons_dict = {0 : \"Not Available\", 1 : \"Debt Consolidation\", 2 : \"Home Improvement\", 3 : \"Business\",\n",
    "                4 : \"Personal Loan\", 5 : \"Student Use\", 6 : \"Auto\", 7 : \"Other\", 8 : \"Baby&Adoption\",\n",
    "                9 : \"Boat\", 10 : \"Cosmetic Procedure\", 11 : \"Engagement Ring\", 12 : \"Green Loans\",\n",
    "                13 : \"Household Expenses\", 14 : \"Large Purchases\", 15 : \"Medical/Dental\",\n",
    "                16 : \"Motorcycle\", 17 : \"RV\", 18 : \"Taxes\", 19 : \"Vacation\", 20 : \"Wedding Loans\"}\n",
    "\n",
    "# using pandas .replace method to replace the values.\n",
    "reasons_df = reasons_df.replace(reasons_dict)\n",
    "# checking....\n",
    "reasons_df[\"ListingCategory\"].value_counts()"
   ]
  },
  {
   "cell_type": "code",
   "execution_count": null,
   "metadata": {},
   "outputs": [],
   "source": [
    "# plotting our graph..\n",
    "dict_val = reasons_df[\"ListingCategory\"].value_counts()\n",
    "dict_val =  dict(dict_val)\n",
    "\n",
    "#Barplot\n",
    "barplot(dict_val.keys(), dict_val.values(),\"Loan Category\",\"Counts(Log)\",\"Loan category counts\")\n",
    "\n",
    "# Barplot on a logarithm scale\n",
    "barplot_log(dict_val.keys(), dict_val.values(),\"Loan Category\",\"Counts(Log)\",\"Loan category counts\")"
   ]
  },
  {
   "cell_type": "markdown",
   "metadata": {},
   "source": [
    "#### From the above barplots, it is evident that Debt consolidation has the highest value followed by unknown and others. And RV in the last place.  From the first plot there are some values that are not visible because of their relative small values. So a __\"Log scale\"__ was used so as to cover for the non-visible values.\n",
    "#### This is visible by comparing both plots."
   ]
  },
  {
   "cell_type": "code",
   "execution_count": null,
   "metadata": {},
   "outputs": [],
   "source": []
  },
  {
   "cell_type": "markdown",
   "metadata": {},
   "source": [
    "#### 3. Plotting and checking for the cummulative amount of loans gotten __with respect to__ some other variables in the dataset.\n",
    "- With Month.\n",
    "- With Year."
   ]
  },
  {
   "cell_type": "code",
   "execution_count": null,
   "metadata": {},
   "outputs": [],
   "source": [
    "# Making a copy pof our dataset.\n",
    "months = df_1.copy()\n",
    "\n",
    "# Grouping by Month.\n",
    "months.groupby(\"LoanOriginationMonth\")[\"LoanOriginalAmount\"].mean()\n",
    "\n",
    "# Changing our moths column form numeric into categorical for easier visibility.\n",
    "ticks = {1:\"January\",2:\"February\",3:\"March\",4:\"April\",5:\"May\",6:\"June\",7:\"July\",8:\"August\",\n",
    "         9:\"September\",10:\"October\",11:\"November\",12:\"December\"}\n",
    "\n",
    "# Replacing  with our new categorical variables.\n",
    "months[\"LoanOriginationMonth\"] = months[\"LoanOriginationMonth\"].replace(ticks)\n",
    "loan_months = months.groupby(\"LoanOriginationMonth\")[\"LoanOriginalAmount\"].sum()\n",
    "loan_months = dict(loan_months)\n",
    "\n",
    "# Plotting our graph. \n",
    "barplot(loan_months.keys(),loan_months.values(), \"Months\",\"Sum-Total amount of loans\",\n",
    "        \"The Cummulative sum of loans issued out in different months\")"
   ]
  },
  {
   "cell_type": "code",
   "execution_count": null,
   "metadata": {
    "scrolled": true
   },
   "outputs": [],
   "source": [
    "# Making a copy pof our dataset.\n",
    "years = df_1.copy()\n",
    "\n",
    "# Grouping by Year.\n",
    "loan_years = years.groupby(\"LoanOriginationYear\")[\"LoanOriginalAmount\"].sum()\n",
    "loan_years = dict(loan_years)\n",
    "\n",
    "# Plotting our graph. \n",
    "barplot_log(loan_years.keys(),loan_years.values(), \"Years\",\"Sum-Total amount of loans\",\n",
    "        \"The Cummulative sum of loans issued out in different months\")\n",
    "loan_years.keys()"
   ]
  },
  {
   "cell_type": "markdown",
   "metadata": {},
   "source": [
    "#### Note:\n",
    "   - We do make a copy of our cleaned dataset whenever we are plotting any graph. This is to make sure that our dataset remains intact in case of any modifications made to it."
   ]
  },
  {
   "cell_type": "code",
   "execution_count": null,
   "metadata": {},
   "outputs": [],
   "source": []
  },
  {
   "cell_type": "markdown",
   "metadata": {
    "scrolled": true
   },
   "source": [
    "#### 4. The occupation with the most loan acquisition."
   ]
  },
  {
   "cell_type": "code",
   "execution_count": null,
   "metadata": {
    "scrolled": true
   },
   "outputs": [],
   "source": [
    "# Importing itertools\n",
    "import itertools\n",
    "\n",
    "# Group our data by Occupation to see the occupation with thye highest amount of loans.\n",
    "a = df_1.groupby(\"Occupation\")[\"LoanOriginalAmount\"].sum()\n",
    "\n",
    "# Changing this into a dictionary.\n",
    "a = a.to_dict()\n",
    "\n",
    "# Sorting our dictionary with itertools.\n",
    "sorted_occupations = sorted(a.items(),key=lambda x:x[1],reverse=True)\n",
    "\n",
    "# Changing our generated list back into a dictionary.\n",
    "sorted_occupations = dict(sorted_occupations)\n",
    "\n",
    "# Slicing the top 20 as the number of occupation is way more than what our graph can take..\n",
    "top_20_loaned_occupations = dict(itertools.islice(sorted_occupations.items(), 20))\n",
    "\n",
    "#Ploting our graph using a barplot..\n",
    "\n",
    "barplot(top_20_loaned_occupations.keys(),top_20_loaned_occupations.values(),\n",
    "        \"Occupations\",\"Total Amount of loan\",\"The top 20 Occupations with the most loans\")"
   ]
  },
  {
   "cell_type": "markdown",
   "metadata": {},
   "source": [
    "#### The above plot shows clearly the Top 20 occupations that take loans. And the chart makes it visible that teachers, accountants, computer programmers, analyst, nurses are part of the top 20 occupations.\n",
    "\n",
    "- What to note: \n",
    "    - We made use of itertools library to slice our sorted dictionary and, we converted back to dictionary format with the dict method as the itertools library returns a list.\n",
    "    - We didn't use the log as our yscale this time around as the chart is clearly visible and there are no much difference between our log scale and the default linear scale this time around."
   ]
  },
  {
   "cell_type": "code",
   "execution_count": null,
   "metadata": {},
   "outputs": [],
   "source": []
  },
  {
   "cell_type": "markdown",
   "metadata": {},
   "source": [
    "#### 5. The correlation between the employment status and loan acquisition.\n",
    "- Questions:\n",
    "    - What percentage of the total sum goes to the employed people ?\n",
    "    - What percentage goes to the self employed ?\n",
    "    - How well do retired people acquire loans ?"
   ]
  },
  {
   "cell_type": "code",
   "execution_count": null,
   "metadata": {},
   "outputs": [],
   "source": [
    "# The comparison between the loans acquired by employed people and the unemployed people.\n",
    "employment = df_1.copy()\n",
    "distribution = employment.groupby(\"EmploymentStatus\")[\"LoanOriginalAmount\"].sum()\n",
    "# Dict format for the group.\n",
    "distribution = dict(distribution)\n",
    "\n",
    "distro_keys = list(distribution.keys())\n",
    "distro_val = list(distribution.values())\n",
    "#Pie chart\n",
    "pie_chart(distro_val,distro_keys,\"Employment status\")"
   ]
  },
  {
   "cell_type": "markdown",
   "metadata": {},
   "source": [
    "#### \n",
    "- From the above plot, it can be deduced that:\n",
    "    - About 70% of the loan aamount goes to the employed people.\n",
    "    - Aboout 5.3% goes to the self employed.\n",
    "    - Retired people are the least of them.\n",
    "    \n",
    "- To be investigated:\n",
    "    - Why is the percentage the goes to the unemployed people so small ?"
   ]
  },
  {
   "cell_type": "code",
   "execution_count": null,
   "metadata": {},
   "outputs": [],
   "source": []
  },
  {
   "cell_type": "markdown",
   "metadata": {},
   "source": [
    "### __BIVARIATE EXPLORATION.__"
   ]
  },
  {
   "cell_type": "markdown",
   "metadata": {},
   "source": [
    "#### 1. Relationship between high-paying jobs and loan acquisition.\n",
    "- Question(s):\n",
    "    - Does high paying job makes people get loans with the assurance of paying it back or otherwise ?\n",
    "    "
   ]
  },
  {
   "cell_type": "code",
   "execution_count": null,
   "metadata": {},
   "outputs": [],
   "source": [
    "df_1.head()"
   ]
  },
  {
   "cell_type": "code",
   "execution_count": null,
   "metadata": {
    "scrolled": false
   },
   "outputs": [],
   "source": [
    "# Checking our data by grouping by both IncomeRange and Occupation\n",
    "\n",
    "# Make a copy of our data\n",
    "bi_new = df_1.copy()\n",
    "order = list(bi_new[\"Occupation\"].unique())\n",
    "\n",
    "# Setting this to a single color to avoid unnecessary visual info /junks \n",
    "sns.set(rc = {'figure.figsize':(20,10)})\n",
    "color = sns.color_palette()[0]\n",
    "\n",
    "# Categorical plot(Box)\n",
    "sns.catplot(data=bi_new,x=\"IncomeRange\",y=\"LoanOriginalAmount\",kind=\"box\",color=color)\n",
    "plt.xticks(rotation=90)\n",
    "plt.show();"
   ]
  },
  {
   "cell_type": "markdown",
   "metadata": {},
   "source": [
    "#### From the above box plot:\n",
    "- It can be deduced that:\n",
    "    - There is a significant trend/ correlation between the money loaned and the Income Range\n",
    "        - The mean of the amount increases with increase in the range of amount earned.\n",
    "    - There are also some outliers on some of the income range(unexpected high value for low income).\n",
    "       - This is expected as it might be due to the duration given to pay back the loan.\n",
    "       \n",
    "NB:\n",
    "    - A boxplot was used so the mean value can be clearly shown."
   ]
  },
  {
   "cell_type": "code",
   "execution_count": null,
   "metadata": {},
   "outputs": [],
   "source": [
    "## Income range\n",
    "## Occupation\n",
    "# Plotting a graph to check the correlation of both"
   ]
  },
  {
   "cell_type": "markdown",
   "metadata": {},
   "source": [
    "#### 2. What are the relationship between the  numeric variables?"
   ]
  },
  {
   "cell_type": "code",
   "execution_count": null,
   "metadata": {},
   "outputs": [],
   "source": [
    "# Seelecting columns(numeric) to check the correlation and distribution.\n",
    "# Numerical variables columns \n",
    "column_numeric = [\"Investors\",\n",
    "       'LoanOriginalAmount',\n",
    "       'ListingCategory (numeric)', 'Term',\n",
    "        'TotalProsperLoans', 'OnTimeProsperPayments', 'ProsperPaymentsLessThanOneMonthLate',\n",
    "       'ProsperPaymentsOneMonthPlusLate']\n",
    "\n",
    "# Categorical variables columns\n",
    "column_categorical = ['IncomeRange',  'LoanMonthsSinceOrigination',\n",
    "       'BorrowerState', 'Occupation', 'EmploymentStatus','LoanStatus', 'BorrowerRate',\n",
    "       'LoanOriginationYear', 'LoanOriginationMonth', 'LoanOriginationDay']\n",
    "\n",
    "# numeric dataframe\n",
    "distro = bi_new.copy()\n",
    "distro_num = distro[column_numeric]\n",
    "\n",
    "# categorical dataframe\n",
    "distro_cat = distro[column_categorical]\n",
    "distro_num.head()"
   ]
  },
  {
   "cell_type": "code",
   "execution_count": null,
   "metadata": {
    "scrolled": false
   },
   "outputs": [],
   "source": [
    "# PairGrid showing the relationship between some numerical columns\n",
    "p = sns.PairGrid(distro_num,hue=\"Term\",dropna=True)\n",
    "# Scatterplot to the off diagonals\n",
    "p.map_offdiag(plt.scatter)\n",
    "# A histplot to the diagonals\n",
    "p.map_diag(plt.hist)\n",
    "p.add_legend()\n",
    "plt.show();"
   ]
  },
  {
   "cell_type": "markdown",
   "metadata": {},
   "source": [
    "#### From the above PairGrid plot for multiple numeric variables:\n",
    "    - There are some correlations between some numeric variables(even though are too tiny to see because of the number of variables being plotted together.\n",
    "- NB :\n",
    "    - A categorical variable(Term) has been used as a hue for the PairGrid.\n",
    "- To do:\n",
    "    - Take a closer look into the pair of variables to derive some insights."
   ]
  },
  {
   "cell_type": "code",
   "execution_count": null,
   "metadata": {},
   "outputs": [],
   "source": []
  },
  {
   "cell_type": "markdown",
   "metadata": {},
   "source": [
    "#### 3. Does any relationship exist between the number of investors and the LoanOriginalAmount ?"
   ]
  },
  {
   "cell_type": "code",
   "execution_count": null,
   "metadata": {},
   "outputs": [],
   "source": [
    "# Exploring the relationship between the TotalLoan and the onTime payments\n",
    "#Using seaborn's countplot\n",
    "sns.scatterplot(data = distro, x=\"LoanOriginalAmount\",\n",
    "                y=\"Investors\")"
   ]
  },
  {
   "cell_type": "markdown",
   "metadata": {},
   "source": [
    "#### The plot above shows the relationship between the numeric variables mentioned above.\n",
    "- Seems the number of investors increases with the amount of loan.\n",
    "- Even though there are little outliers."
   ]
  },
  {
   "cell_type": "code",
   "execution_count": null,
   "metadata": {},
   "outputs": [],
   "source": []
  },
  {
   "cell_type": "markdown",
   "metadata": {},
   "source": [
    "#### 4. Question(s):\n",
    "- For what reason(s) do most people acquire loan?\n",
    "    - What effect does the income have on the reason(s)? "
   ]
  },
  {
   "cell_type": "code",
   "execution_count": null,
   "metadata": {},
   "outputs": [],
   "source": [
    "# renaming our BorrowerRate column.\n",
    "\n",
    "# Setting our bins for the range.\n",
    "bins = [0.0, 0.1, 0.2, 0.3, 0.4, 0.5]\n",
    "# Setting labels for the bins above.\n",
    "labels = [\"0.000000-0.0999999%\", \"0.100000-0.199999%\", \"0.200000-0.299999%\",\n",
    "          \"0.300000-0.399999%\", \"0.400 000-0.499999%\"]\n",
    "# Using pandas cut to rename our column.\n",
    "distro[\"BorrowerRate\"] = pd.cut(x=distro[\"BorrowerRate\"],bins=bins, labels=labels)\n",
    "# Quick Check.\n",
    "distro.head()"
   ]
  },
  {
   "cell_type": "code",
   "execution_count": null,
   "metadata": {},
   "outputs": [],
   "source": [
    "sns.set(rc = {'figure.figsize':(15,8)})\n",
    "sns.catplot(data=distro, x=\"ListingCategory (numeric)\", y=\"LoanOriginalAmount\",\n",
    "            color=\"blue\",hue=\"IncomeRange\")"
   ]
  },
  {
   "cell_type": "markdown",
   "metadata": {},
   "source": [
    "#### Answer(s):\n",
    "- It is evident from the above strip plot that the reason with the most occurence as to why people acquire loan is the reason(1) which is \"debt consolidation\".\n",
    "    - The income range seem to have a significant effect on the reason -\n",
    "        - Higher income range are being seen with respect to the most reason for loan acquisition."
   ]
  },
  {
   "cell_type": "code",
   "execution_count": null,
   "metadata": {},
   "outputs": [],
   "source": []
  },
  {
   "cell_type": "markdown",
   "metadata": {},
   "source": [
    "#### 5. What effect does the loan status have on the amount of loan given with respect to income range?"
   ]
  },
  {
   "cell_type": "code",
   "execution_count": null,
   "metadata": {},
   "outputs": [],
   "source": [
    "# Make a copy of our data.\n",
    "df_new = bi_new.copy()\n",
    "# Cutting the loan status categories down to the 3 most important/effective variables.\n",
    "status = df_new[df_new[\"LoanStatus\"].isin([\"Completed\",\"Current\",\"Chargedoff\"])]\n",
    "# using seaborn's barplot with loan status as hue.\n",
    "sns.barplot(data=status,x=\"IncomeRange\",y=\"LoanOriginalAmount\", hue=\"LoanStatus\")"
   ]
  },
  {
   "cell_type": "markdown",
   "metadata": {},
   "source": [
    "- In the above plot it is shown that:\n",
    "    - the loan which goes to the individuals with complete loan status is the highest for the highest salary range. This might be due to the high income range that enables them to pay frequently than the others."
   ]
  },
  {
   "cell_type": "code",
   "execution_count": null,
   "metadata": {},
   "outputs": [],
   "source": []
  },
  {
   "cell_type": "markdown",
   "metadata": {},
   "source": [
    "### __MULTIVARIATE EXPLORATION__"
   ]
  },
  {
   "cell_type": "markdown",
   "metadata": {},
   "source": [
    "#### 1. How well does the interest rate correlate with the amount loaned and does the salary have any impact on this or does the number of late/ ontime payment have a significant effect ?\n",
    "\n"
   ]
  },
  {
   "cell_type": "code",
   "execution_count": null,
   "metadata": {},
   "outputs": [],
   "source": [
    "df_1.head()"
   ]
  },
  {
   "cell_type": "code",
   "execution_count": null,
   "metadata": {
    "scrolled": true
   },
   "outputs": [],
   "source": [
    "interest = df_1.copy()\n",
    "interest_list = [\"LoanOriginalAmount\",\"BorrowerRate\",\"OnTimeProsperPayments\",\n",
    "                 \"ProsperPaymentsOneMonthPlusLate\",\"Term\"]\n",
    "interest_new = interest[interest_list]\n",
    "\n",
    "# Firstly checking for the correlation between these variables. \n",
    "interest_new = interest_new.corr()\n",
    "\n",
    "# Plotting this on a heatMap\n",
    "sns.set(rc = {'figure.figsize':(15,8)})\n",
    "plt.xticks(fontsize=15)\n",
    "plt.yticks(fontsize=15)\n",
    "plt.title(\"Correlation HeatMap\",fontsize=20)\n",
    "sns.heatmap(interest_new, cmap=\"viridis\", annot=True)\n",
    "plt.show();"
   ]
  },
  {
   "cell_type": "markdown",
   "metadata": {},
   "source": [
    "#### From the above HeatMap:\n",
    "- It can be deduced that:\n",
    "    - There is a very little correlation between the listed variable.\n",
    "    - There is a small correlation between loan amount and Term given."
   ]
  },
  {
   "cell_type": "code",
   "execution_count": null,
   "metadata": {},
   "outputs": [],
   "source": []
  },
  {
   "cell_type": "markdown",
   "metadata": {},
   "source": [
    "#### 2. Relationship between the borrower rate and the loan original amount and the effect of the loan term given on each."
   ]
  },
  {
   "cell_type": "code",
   "execution_count": null,
   "metadata": {},
   "outputs": [],
   "source": [
    "# renaming our Borrowerate column.\n",
    "\n",
    "# Setting our bins for the range.\n",
    "bins = [0.0, 0.1, 0.2, 0.3, 0.4, 0.5]\n",
    "# Setting labels for the bins above.\n",
    "labels = [\"0.000000-0.0999999%\", \"0.100000-0.199999%\", \"0.200000-0.299999%\",\n",
    "          \"0.300000-0.399999%\", \"0.400 000-0.499999%\"]\n",
    "# Using pandas cut to rename our column.\n",
    "interest[\"BorrowerRate\"] = pd.cut(x=interest[\"BorrowerRate\"],bins=bins, labels=labels)\n",
    "# Quick Check.\n",
    "interest"
   ]
  },
  {
   "cell_type": "code",
   "execution_count": null,
   "metadata": {
    "scrolled": false
   },
   "outputs": [],
   "source": [
    "# Using a Facet Grid and Checking for the relationship, \n",
    "# and distribution of loan amounts with respect to BorroweRate grouped by Terms.\n",
    "\n",
    "sns.set(rc = {'figure.figsize':(15,8)})\n",
    "g = sns.FacetGrid(data = interest, col=\"IncomeRange\",hue = \"Term\",\n",
    "                  palette=[\"green\", \"blue\", \"red\"],col_wrap=4)\n",
    "g.map_dataframe(sns.scatterplot, \"BorrowerRate\",\"LoanOriginalAmount\")\n",
    "g.set_xticklabels(rotation=90)\n",
    "plt.legend()\n",
    "plt.show();"
   ]
  },
  {
   "cell_type": "markdown",
   "metadata": {},
   "source": []
  },
  {
   "cell_type": "markdown",
   "metadata": {},
   "source": [
    "#### 4. Across all states, what effect does income range have on the loan amount ?"
   ]
  },
  {
   "cell_type": "code",
   "execution_count": null,
   "metadata": {},
   "outputs": [],
   "source": [
    "# Making a copy of the dataset.\n",
    "df_st = df_1.copy()"
   ]
  },
  {
   "cell_type": "code",
   "execution_count": null,
   "metadata": {},
   "outputs": [],
   "source": [
    "states = df_st.BorrowerState.unique()\n",
    "list_state = list(states)\n",
    "list_state\n",
    "# Run a for loop to loop through all the states in list_state..\n",
    "for i in range(13):\n",
    "    # Setting up the axes.\n",
    "    axs = sns.FacetGrid(data=df_st,col=\"IncomeRange\")\n",
    "    \n",
    "    # A bigger graph\n",
    "    fig = plt.gcf()\n",
    "    # Change seaborn plot size\n",
    "    fig.set_size_inches(18,5)\n",
    "    \n",
    "    # Selecting the states in steps of 4 throughout the whole state list.\n",
    "    X = df[\"BorrowerState\"][df_st[\"BorrowerState\"].isin(list_state[(i*4):(i+1)*4])]\n",
    "    # Using a boxplot for thw whole Grid\n",
    "    axs.map_dataframe(sns.boxplot,x=X,y=\"LoanOriginalAmount\")\n",
    "    plt.show();"
   ]
  },
  {
   "cell_type": "markdown",
   "metadata": {},
   "source": [
    "#### NB:\n",
    "- A for loop was used to loop through all the states in list_states in steps of 4.\n",
    "    - The number 4 was chosen because the whole state is 52 which is a multiple of 4 and therefore we generate a total of 13 graphs for the Grid.\n",
    "    - To better compare what we needed to compare, it was necessary to go through all the states instead of picking states at random and plotting each differently which might cause unnecessary wasting of cells.\n",
    "    - A box plot was chosen so as to clearly show the mean loan amount obtained and the outliers for each state and income range\n",
    "#### From the FaceGrid above:\n",
    "- It can be shown that:\n",
    "    - For each income range(column) in each state, there are some significant threads:\n",
    "        - While some are in form of increments(increasing order)\n",
    "        - Some are in decreasing order(decrements).\n",
    "        - Across all states the highest income range has the highest loan amount(with the exception of outliers). "
   ]
  },
  {
   "cell_type": "markdown",
   "metadata": {},
   "source": [
    "### _How well do the variables(both categorical and numerical) correlates generally?_\n",
    "##     \n",
    "#### The dataset has been stripped of some of the columns as there were originally __81__ columns in the dataset. __21__ of the most important have been selected and worked on to get geneate some insights.\n",
    "\n",
    "#### According to the plots, there are some columns seem to have little correlation with each other while most of the columns have no correlations with eachother at all.\n",
    "\n",
    "- The Loan amount and the Income range seem to have a little correlation.\n",
    "- The Loan amount also seem to have little correlation with the employment status though there are some outliers."
   ]
  }
 ],
 "metadata": {
  "kernelspec": {
   "display_name": "Python 3",
   "language": "python",
   "name": "python3"
  },
  "language_info": {
   "codemirror_mode": {
    "name": "ipython",
    "version": 3
   },
   "file_extension": ".py",
   "mimetype": "text/x-python",
   "name": "python",
   "nbconvert_exporter": "python",
   "pygments_lexer": "ipython3",
   "version": "3.8.5"
  }
 },
 "nbformat": 4,
 "nbformat_minor": 2
}
